{
 "cells": [
  {
   "cell_type": "code",
   "execution_count": 1,
   "metadata": {},
   "outputs": [],
   "source": [
    "import nb_utils\n",
    "proj_dir = nb_utils.proj_path_setup()"
   ]
  },
  {
   "cell_type": "code",
   "execution_count": 36,
   "metadata": {},
   "outputs": [],
   "source": [
    "import pandas as pd\n",
    "import numpy  as np\n",
    "import matplotlib.pyplot as plt\n",
    "import seaborn as sns\n",
    "from sklearn.model_selection import cross_val_score\n",
    "from sklearn.preprocessing   import StandardScaler\n",
    "from sklearn.linear_model    import LogisticRegression\n",
    "from sklearn.linear_model    import LinearRegression\n",
    "from sklearn.tree            import DecisionTreeClassifier\n",
    "from sklearn.ensemble        import RandomForestClassifier\n",
    "from sklearn.svm             import SVC\n",
    "from sklearn.neighbors       import KNeighborsClassifier\n",
    "from sklearn.naive_bayes     import GaussianNB\n",
    "from sklearn.ensemble        import GradientBoostingClassifier\n",
    "from xgboost                 import XGBClassifier\n",
    "from sklearn.model_selection import train_test_split\n",
    "from sklearn.pipeline        import Pipeline\n",
    "from sklearn.model_selection import GridSearchCV, RandomizedSearchCV\n",
    "from sklearn.ensemble        import StackingClassifier\n",
    "\n",
    "import os\n",
    "\n",
    "plt.style.use('ggplot')\n",
    "\n",
    "%matplotlib inline"
   ]
  },
  {
   "cell_type": "code",
   "execution_count": 3,
   "metadata": {},
   "outputs": [],
   "source": [
    "train_df = pd.read_csv(os.path.join(proj_dir, 'data', 'raw', 'train.csv'))\n",
    "test_df = pd.read_csv(os.path.join(proj_dir, 'data', 'raw', 'test.csv'))\n",
    "feature_cols = [col for col in test_df.columns if col != 'id']"
   ]
  },
  {
   "cell_type": "code",
   "execution_count": 4,
   "metadata": {},
   "outputs": [
    {
     "name": "stdout",
     "output_type": "stream",
     "text": [
      "<class 'pandas.core.frame.DataFrame'>\n",
      "RangeIndex: 414 entries, 0 to 413\n",
      "Data columns (total 8 columns):\n",
      " #   Column   Non-Null Count  Dtype  \n",
      "---  ------   --------------  -----  \n",
      " 0   id       414 non-null    int64  \n",
      " 1   gravity  414 non-null    float64\n",
      " 2   ph       414 non-null    float64\n",
      " 3   osmo     414 non-null    int64  \n",
      " 4   cond     414 non-null    float64\n",
      " 5   urea     414 non-null    int64  \n",
      " 6   calc     414 non-null    float64\n",
      " 7   target   414 non-null    int64  \n",
      "dtypes: float64(4), int64(4)\n",
      "memory usage: 26.0 KB\n"
     ]
    }
   ],
   "source": [
    "train_df.info()"
   ]
  },
  {
   "cell_type": "code",
   "execution_count": 5,
   "metadata": {},
   "outputs": [],
   "source": [
    "X = train_df[feature_cols]\n",
    "y = train_df['target']\n",
    "X_train, X_test, y_train, y_test = train_test_split(X, y, test_size=0.2, random_state=42)"
   ]
  },
  {
   "cell_type": "code",
   "execution_count": 6,
   "metadata": {},
   "outputs": [
    {
     "name": "stdout",
     "output_type": "stream",
     "text": [
      "Accuracy: 0.78\n"
     ]
    }
   ],
   "source": [
    "# Create a pipeline with a list of steps\n",
    "LR_model = Pipeline([('scaler', StandardScaler()),('classifier', LogisticRegression())])\n",
    "# Fit the pipeline to the data\n",
    "LR_model.fit(X_train, y_train)\n",
    "# Predict on test data\n",
    "y_pred = LR_model.predict(X_test)\n",
    "# Evaluate the pipeline\n",
    "accuracy = LR_model.score(X_test, y_test)\n",
    "print(\"Accuracy: {:.2f}\".format(accuracy))"
   ]
  },
  {
   "cell_type": "code",
   "execution_count": 7,
   "metadata": {},
   "outputs": [
    {
     "name": "stdout",
     "output_type": "stream",
     "text": [
      "Accuracy: 0.67\n"
     ]
    }
   ],
   "source": [
    "# Create a pipeline with a list of steps\n",
    "DT_model = Pipeline([('scaler', StandardScaler()),('classifier', DecisionTreeClassifier())])\n",
    "# Fit the pipeline to the data\n",
    "DT_model.fit(X_train, y_train)\n",
    "# Predict on test data\n",
    "y_pred = DT_model.predict(X_test)\n",
    "# Evaluate the pipeline\n",
    "accuracy = DT_model.score(X_test, y_test)\n",
    "print(\"Accuracy: {:.2f}\".format(accuracy))"
   ]
  },
  {
   "cell_type": "code",
   "execution_count": 8,
   "metadata": {},
   "outputs": [
    {
     "name": "stdout",
     "output_type": "stream",
     "text": [
      "Accuracy: 0.70\n"
     ]
    }
   ],
   "source": [
    "# Create a pipeline with a list of steps\n",
    "RF_model = Pipeline([('scaler', StandardScaler()),('classifier', RandomForestClassifier())])\n",
    "# Fit the pipeline to the data\n",
    "RF_model.fit(X_train, y_train)\n",
    "# Predict on test data\n",
    "y_pred = RF_model.predict(X_test)\n",
    "# Evaluate the pipeline\n",
    "accuracy = RF_model.score(X_test, y_test)\n",
    "print(\"Accuracy: {:.2f}\".format(accuracy))"
   ]
  },
  {
   "cell_type": "code",
   "execution_count": 9,
   "metadata": {},
   "outputs": [
    {
     "name": "stdout",
     "output_type": "stream",
     "text": [
      "Accuracy: 0.77\n"
     ]
    }
   ],
   "source": [
    "# Create a pipeline with a list of steps\n",
    "SV_model = Pipeline([('scaler', StandardScaler()),('classifier', SVC())])\n",
    "# Fit the pipeline to the data\n",
    "SV_model.fit(X_train, y_train)\n",
    "# Predict on test data\n",
    "y_pred = SV_model.predict(X_test)\n",
    "# Evaluate the pipeline\n",
    "accuracy = SV_model.score(X_test, y_test)\n",
    "print(\"Accuracy: {:.2f}\".format(accuracy))"
   ]
  },
  {
   "cell_type": "code",
   "execution_count": 10,
   "metadata": {},
   "outputs": [
    {
     "name": "stdout",
     "output_type": "stream",
     "text": [
      "Accuracy: 0.75\n"
     ]
    }
   ],
   "source": [
    "# Create a pipeline with a list of steps\n",
    "KN_model = Pipeline([('scaler', StandardScaler()),('classifier', KNeighborsClassifier())])\n",
    "# Fit the pipeline to the data\n",
    "KN_model.fit(X_train, y_train)\n",
    "# Predict on test data\n",
    "y_pred = KN_model.predict(X_test)\n",
    "# Evaluate the pipeline\n",
    "accuracy = KN_model.score(X_test, y_test)\n",
    "print(\"Accuracy: {:.2f}\".format(accuracy))"
   ]
  },
  {
   "cell_type": "code",
   "execution_count": 11,
   "metadata": {},
   "outputs": [
    {
     "name": "stdout",
     "output_type": "stream",
     "text": [
      "Accuracy: 0.81\n"
     ]
    }
   ],
   "source": [
    "# Create a pipeline with a list of steps\n",
    "GN_model = Pipeline([('scaler', StandardScaler()),('classifier', GaussianNB())])\n",
    "# Fit the pipeline to the data\n",
    "GN_model.fit(X_train, y_train)\n",
    "# Predict on test data\n",
    "y_pred = GN_model.predict(X_test)\n",
    "# Evaluate the pipeline\n",
    "accuracy = GN_model.score(X_test, y_test)\n",
    "print(\"Accuracy: {:.2f}\".format(accuracy))"
   ]
  },
  {
   "cell_type": "code",
   "execution_count": 12,
   "metadata": {},
   "outputs": [
    {
     "name": "stdout",
     "output_type": "stream",
     "text": [
      "Accuracy: 0.80\n"
     ]
    }
   ],
   "source": [
    "# Create a pipeline with a list of steps\n",
    "GB_model = Pipeline([('scaler', StandardScaler()),('classifier', GradientBoostingClassifier())])\n",
    "# Fit the pipeline to the data\n",
    "GB_model.fit(X_train, y_train)\n",
    "# Predict on test data\n",
    "y_pred = GB_model.predict(X_test)\n",
    "# Evaluate the pipeline\n",
    "accuracy = GB_model.score(X_test, y_test)\n",
    "print(\"Accuracy: {:.2f}\".format(accuracy))"
   ]
  },
  {
   "cell_type": "code",
   "execution_count": 13,
   "metadata": {},
   "outputs": [
    {
     "name": "stdout",
     "output_type": "stream",
     "text": [
      "Accuracy: 0.66\n"
     ]
    }
   ],
   "source": [
    "# Create a pipeline with a list of steps\n",
    "XGB_model = Pipeline([('scaler', StandardScaler()),('classifier',XGBClassifier())])\n",
    "# Fit the pipeline to the data\n",
    "XGB_model.fit(X_train, y_train)\n",
    "# Predict on test data\n",
    "y_pred = XGB_model.predict(X_test)\n",
    "# Evaluate the pipeline\n",
    "accuracy = XGB_model.score(X_test, y_test)\n",
    "print(\"Accuracy: {:.2f}\".format(accuracy))"
   ]
  },
  {
   "attachments": {},
   "cell_type": "markdown",
   "metadata": {},
   "source": [
    "#### Collect predicted probabilities for each model"
   ]
  },
  {
   "cell_type": "code",
   "execution_count": 14,
   "metadata": {},
   "outputs": [],
   "source": [
    "model_prefixes = ['LR', 'DT', 'RF', 'KN', 'GN', 'GB', 'XGB']\n",
    "models = [LR_model, DT_model, RF_model, KN_model, GN_model, GB_model, XGB_model]\n",
    "\n",
    "predicted_probs_dict = {prefix : model.predict_proba(X_train)[:,1] for prefix, model in zip(model_prefixes, models)}\n",
    "test_predicted_probs_dict = {prefix : model.predict_proba(X_test)[:,1] for prefix, model in zip(model_prefixes, models)}"
   ]
  },
  {
   "cell_type": "code",
   "execution_count": 15,
   "metadata": {},
   "outputs": [
    {
     "data": {
      "text/html": [
       "<div>\n",
       "<style scoped>\n",
       "    .dataframe tbody tr th:only-of-type {\n",
       "        vertical-align: middle;\n",
       "    }\n",
       "\n",
       "    .dataframe tbody tr th {\n",
       "        vertical-align: top;\n",
       "    }\n",
       "\n",
       "    .dataframe thead th {\n",
       "        text-align: right;\n",
       "    }\n",
       "</style>\n",
       "<table border=\"1\" class=\"dataframe\">\n",
       "  <thead>\n",
       "    <tr style=\"text-align: right;\">\n",
       "      <th></th>\n",
       "      <th>LR</th>\n",
       "      <th>DT</th>\n",
       "      <th>RF</th>\n",
       "      <th>KN</th>\n",
       "      <th>GN</th>\n",
       "      <th>GB</th>\n",
       "      <th>XGB</th>\n",
       "      <th>SV</th>\n",
       "    </tr>\n",
       "  </thead>\n",
       "  <tbody>\n",
       "    <tr>\n",
       "      <th>0</th>\n",
       "      <td>0.219899</td>\n",
       "      <td>0.0</td>\n",
       "      <td>0.10</td>\n",
       "      <td>0.0</td>\n",
       "      <td>0.090252</td>\n",
       "      <td>0.067690</td>\n",
       "      <td>0.013862</td>\n",
       "      <td>0</td>\n",
       "    </tr>\n",
       "    <tr>\n",
       "      <th>1</th>\n",
       "      <td>0.382587</td>\n",
       "      <td>0.0</td>\n",
       "      <td>0.15</td>\n",
       "      <td>0.4</td>\n",
       "      <td>0.515520</td>\n",
       "      <td>0.163754</td>\n",
       "      <td>0.011069</td>\n",
       "      <td>0</td>\n",
       "    </tr>\n",
       "    <tr>\n",
       "      <th>2</th>\n",
       "      <td>0.435131</td>\n",
       "      <td>1.0</td>\n",
       "      <td>0.83</td>\n",
       "      <td>0.4</td>\n",
       "      <td>0.661918</td>\n",
       "      <td>0.821618</td>\n",
       "      <td>0.953017</td>\n",
       "      <td>1</td>\n",
       "    </tr>\n",
       "    <tr>\n",
       "      <th>3</th>\n",
       "      <td>0.566789</td>\n",
       "      <td>1.0</td>\n",
       "      <td>0.85</td>\n",
       "      <td>0.8</td>\n",
       "      <td>0.607626</td>\n",
       "      <td>0.871015</td>\n",
       "      <td>0.982519</td>\n",
       "      <td>1</td>\n",
       "    </tr>\n",
       "    <tr>\n",
       "      <th>4</th>\n",
       "      <td>0.937031</td>\n",
       "      <td>1.0</td>\n",
       "      <td>0.90</td>\n",
       "      <td>1.0</td>\n",
       "      <td>0.997234</td>\n",
       "      <td>0.785901</td>\n",
       "      <td>0.961263</td>\n",
       "      <td>1</td>\n",
       "    </tr>\n",
       "    <tr>\n",
       "      <th>...</th>\n",
       "      <td>...</td>\n",
       "      <td>...</td>\n",
       "      <td>...</td>\n",
       "      <td>...</td>\n",
       "      <td>...</td>\n",
       "      <td>...</td>\n",
       "      <td>...</td>\n",
       "      <td>...</td>\n",
       "    </tr>\n",
       "    <tr>\n",
       "      <th>326</th>\n",
       "      <td>0.585463</td>\n",
       "      <td>0.0</td>\n",
       "      <td>0.22</td>\n",
       "      <td>0.6</td>\n",
       "      <td>0.740104</td>\n",
       "      <td>0.156978</td>\n",
       "      <td>0.059356</td>\n",
       "      <td>1</td>\n",
       "    </tr>\n",
       "    <tr>\n",
       "      <th>327</th>\n",
       "      <td>0.277627</td>\n",
       "      <td>0.0</td>\n",
       "      <td>0.08</td>\n",
       "      <td>0.0</td>\n",
       "      <td>0.453698</td>\n",
       "      <td>0.116387</td>\n",
       "      <td>0.006312</td>\n",
       "      <td>0</td>\n",
       "    </tr>\n",
       "    <tr>\n",
       "      <th>328</th>\n",
       "      <td>0.349885</td>\n",
       "      <td>0.0</td>\n",
       "      <td>0.07</td>\n",
       "      <td>0.0</td>\n",
       "      <td>0.124925</td>\n",
       "      <td>0.063801</td>\n",
       "      <td>0.000875</td>\n",
       "      <td>0</td>\n",
       "    </tr>\n",
       "    <tr>\n",
       "      <th>329</th>\n",
       "      <td>0.473740</td>\n",
       "      <td>1.0</td>\n",
       "      <td>0.91</td>\n",
       "      <td>1.0</td>\n",
       "      <td>0.775227</td>\n",
       "      <td>0.748336</td>\n",
       "      <td>0.977285</td>\n",
       "      <td>1</td>\n",
       "    </tr>\n",
       "    <tr>\n",
       "      <th>330</th>\n",
       "      <td>0.380059</td>\n",
       "      <td>1.0</td>\n",
       "      <td>0.68</td>\n",
       "      <td>0.4</td>\n",
       "      <td>0.300309</td>\n",
       "      <td>0.655674</td>\n",
       "      <td>0.905404</td>\n",
       "      <td>1</td>\n",
       "    </tr>\n",
       "  </tbody>\n",
       "</table>\n",
       "<p>331 rows × 8 columns</p>\n",
       "</div>"
      ],
      "text/plain": [
       "           LR   DT    RF   KN        GN        GB       XGB  SV\n",
       "0    0.219899  0.0  0.10  0.0  0.090252  0.067690  0.013862   0\n",
       "1    0.382587  0.0  0.15  0.4  0.515520  0.163754  0.011069   0\n",
       "2    0.435131  1.0  0.83  0.4  0.661918  0.821618  0.953017   1\n",
       "3    0.566789  1.0  0.85  0.8  0.607626  0.871015  0.982519   1\n",
       "4    0.937031  1.0  0.90  1.0  0.997234  0.785901  0.961263   1\n",
       "..        ...  ...   ...  ...       ...       ...       ...  ..\n",
       "326  0.585463  0.0  0.22  0.6  0.740104  0.156978  0.059356   1\n",
       "327  0.277627  0.0  0.08  0.0  0.453698  0.116387  0.006312   0\n",
       "328  0.349885  0.0  0.07  0.0  0.124925  0.063801  0.000875   0\n",
       "329  0.473740  1.0  0.91  1.0  0.775227  0.748336  0.977285   1\n",
       "330  0.380059  1.0  0.68  0.4  0.300309  0.655674  0.905404   1\n",
       "\n",
       "[331 rows x 8 columns]"
      ]
     },
     "execution_count": 15,
     "metadata": {},
     "output_type": "execute_result"
    }
   ],
   "source": [
    "prob_df = pd.DataFrame(predicted_probs_dict)\n",
    "prob_df['SV'] = SV_model.predict(X_train)\n",
    "prob_df"
   ]
  },
  {
   "cell_type": "code",
   "execution_count": 16,
   "metadata": {},
   "outputs": [
    {
     "data": {
      "text/html": [
       "<div>\n",
       "<style scoped>\n",
       "    .dataframe tbody tr th:only-of-type {\n",
       "        vertical-align: middle;\n",
       "    }\n",
       "\n",
       "    .dataframe tbody tr th {\n",
       "        vertical-align: top;\n",
       "    }\n",
       "\n",
       "    .dataframe thead th {\n",
       "        text-align: right;\n",
       "    }\n",
       "</style>\n",
       "<table border=\"1\" class=\"dataframe\">\n",
       "  <thead>\n",
       "    <tr style=\"text-align: right;\">\n",
       "      <th></th>\n",
       "      <th>LR</th>\n",
       "      <th>DT</th>\n",
       "      <th>RF</th>\n",
       "      <th>KN</th>\n",
       "      <th>GN</th>\n",
       "      <th>GB</th>\n",
       "      <th>XGB</th>\n",
       "      <th>SV</th>\n",
       "    </tr>\n",
       "  </thead>\n",
       "  <tbody>\n",
       "    <tr>\n",
       "      <th>0</th>\n",
       "      <td>0.833748</td>\n",
       "      <td>1.0</td>\n",
       "      <td>0.98</td>\n",
       "      <td>1.0</td>\n",
       "      <td>0.980084</td>\n",
       "      <td>0.945488</td>\n",
       "      <td>0.990660</td>\n",
       "      <td>1</td>\n",
       "    </tr>\n",
       "    <tr>\n",
       "      <th>1</th>\n",
       "      <td>0.640019</td>\n",
       "      <td>0.0</td>\n",
       "      <td>0.75</td>\n",
       "      <td>0.8</td>\n",
       "      <td>0.902917</td>\n",
       "      <td>0.877084</td>\n",
       "      <td>0.994683</td>\n",
       "      <td>1</td>\n",
       "    </tr>\n",
       "    <tr>\n",
       "      <th>2</th>\n",
       "      <td>0.361860</td>\n",
       "      <td>0.0</td>\n",
       "      <td>0.40</td>\n",
       "      <td>0.2</td>\n",
       "      <td>0.668281</td>\n",
       "      <td>0.456030</td>\n",
       "      <td>0.781455</td>\n",
       "      <td>0</td>\n",
       "    </tr>\n",
       "    <tr>\n",
       "      <th>3</th>\n",
       "      <td>0.560934</td>\n",
       "      <td>0.0</td>\n",
       "      <td>0.28</td>\n",
       "      <td>0.8</td>\n",
       "      <td>0.459810</td>\n",
       "      <td>0.519307</td>\n",
       "      <td>0.070061</td>\n",
       "      <td>1</td>\n",
       "    </tr>\n",
       "    <tr>\n",
       "      <th>4</th>\n",
       "      <td>0.343437</td>\n",
       "      <td>1.0</td>\n",
       "      <td>0.42</td>\n",
       "      <td>0.6</td>\n",
       "      <td>0.044674</td>\n",
       "      <td>0.627139</td>\n",
       "      <td>0.762264</td>\n",
       "      <td>0</td>\n",
       "    </tr>\n",
       "    <tr>\n",
       "      <th>...</th>\n",
       "      <td>...</td>\n",
       "      <td>...</td>\n",
       "      <td>...</td>\n",
       "      <td>...</td>\n",
       "      <td>...</td>\n",
       "      <td>...</td>\n",
       "      <td>...</td>\n",
       "      <td>...</td>\n",
       "    </tr>\n",
       "    <tr>\n",
       "      <th>78</th>\n",
       "      <td>0.205671</td>\n",
       "      <td>0.0</td>\n",
       "      <td>0.44</td>\n",
       "      <td>0.4</td>\n",
       "      <td>0.110098</td>\n",
       "      <td>0.262727</td>\n",
       "      <td>0.669616</td>\n",
       "      <td>0</td>\n",
       "    </tr>\n",
       "    <tr>\n",
       "      <th>79</th>\n",
       "      <td>0.779387</td>\n",
       "      <td>1.0</td>\n",
       "      <td>0.68</td>\n",
       "      <td>0.8</td>\n",
       "      <td>0.878693</td>\n",
       "      <td>0.718576</td>\n",
       "      <td>0.785374</td>\n",
       "      <td>1</td>\n",
       "    </tr>\n",
       "    <tr>\n",
       "      <th>80</th>\n",
       "      <td>0.309300</td>\n",
       "      <td>0.0</td>\n",
       "      <td>0.33</td>\n",
       "      <td>0.4</td>\n",
       "      <td>0.260223</td>\n",
       "      <td>0.280937</td>\n",
       "      <td>0.006067</td>\n",
       "      <td>0</td>\n",
       "    </tr>\n",
       "    <tr>\n",
       "      <th>81</th>\n",
       "      <td>0.422584</td>\n",
       "      <td>0.0</td>\n",
       "      <td>0.31</td>\n",
       "      <td>0.2</td>\n",
       "      <td>0.544809</td>\n",
       "      <td>0.187563</td>\n",
       "      <td>0.014169</td>\n",
       "      <td>0</td>\n",
       "    </tr>\n",
       "    <tr>\n",
       "      <th>82</th>\n",
       "      <td>0.690147</td>\n",
       "      <td>1.0</td>\n",
       "      <td>0.88</td>\n",
       "      <td>0.8</td>\n",
       "      <td>0.885984</td>\n",
       "      <td>0.941545</td>\n",
       "      <td>0.981828</td>\n",
       "      <td>1</td>\n",
       "    </tr>\n",
       "  </tbody>\n",
       "</table>\n",
       "<p>83 rows × 8 columns</p>\n",
       "</div>"
      ],
      "text/plain": [
       "          LR   DT    RF   KN        GN        GB       XGB  SV\n",
       "0   0.833748  1.0  0.98  1.0  0.980084  0.945488  0.990660   1\n",
       "1   0.640019  0.0  0.75  0.8  0.902917  0.877084  0.994683   1\n",
       "2   0.361860  0.0  0.40  0.2  0.668281  0.456030  0.781455   0\n",
       "3   0.560934  0.0  0.28  0.8  0.459810  0.519307  0.070061   1\n",
       "4   0.343437  1.0  0.42  0.6  0.044674  0.627139  0.762264   0\n",
       "..       ...  ...   ...  ...       ...       ...       ...  ..\n",
       "78  0.205671  0.0  0.44  0.4  0.110098  0.262727  0.669616   0\n",
       "79  0.779387  1.0  0.68  0.8  0.878693  0.718576  0.785374   1\n",
       "80  0.309300  0.0  0.33  0.4  0.260223  0.280937  0.006067   0\n",
       "81  0.422584  0.0  0.31  0.2  0.544809  0.187563  0.014169   0\n",
       "82  0.690147  1.0  0.88  0.8  0.885984  0.941545  0.981828   1\n",
       "\n",
       "[83 rows x 8 columns]"
      ]
     },
     "execution_count": 16,
     "metadata": {},
     "output_type": "execute_result"
    }
   ],
   "source": [
    "test_prob_df = pd.DataFrame(test_predicted_probs_dict)\n",
    "test_prob_df['SV'] = SV_model.predict(X_test)\n",
    "test_prob_df"
   ]
  },
  {
   "attachments": {},
   "cell_type": "markdown",
   "metadata": {},
   "source": [
    "#### Use Logistic Model to Predict on the Output from the Primary Models"
   ]
  },
  {
   "cell_type": "code",
   "execution_count": 17,
   "metadata": {},
   "outputs": [
    {
     "name": "stdout",
     "output_type": "stream",
     "text": [
      "Accuracy: 0.73\n"
     ]
    }
   ],
   "source": [
    "final_model = LogisticRegression()\n",
    "final_model.fit(prob_df, y_train)\n",
    "accuracy = final_model.score(test_prob_df, y_test)\n",
    "print(\"Accuracy: {:.2f}\".format(accuracy))"
   ]
  },
  {
   "attachments": {},
   "cell_type": "markdown",
   "metadata": {},
   "source": [
    "#### Try a voting classifier"
   ]
  },
  {
   "cell_type": "code",
   "execution_count": 18,
   "metadata": {},
   "outputs": [],
   "source": [
    "from sklearn.ensemble import VotingClassifier"
   ]
  },
  {
   "cell_type": "code",
   "execution_count": 19,
   "metadata": {},
   "outputs": [],
   "source": [
    "estimators = [(prefix, model) for prefix, model in zip(model_prefixes, models)]\n",
    "estimators.append(('SV', SV_model))"
   ]
  },
  {
   "cell_type": "code",
   "execution_count": 20,
   "metadata": {},
   "outputs": [
    {
     "name": "stdout",
     "output_type": "stream",
     "text": [
      "Accuracy: 0.75\n"
     ]
    }
   ],
   "source": [
    "final_model = VotingClassifier(\n",
    "    estimators=estimators, voting='hard'\n",
    ")\n",
    "final_model.fit(X_train, y_train)\n",
    "accuracy = final_model.score(X_test, y_test)\n",
    "print(\"Accuracy: {:.2f}\".format(accuracy))"
   ]
  },
  {
   "attachments": {},
   "cell_type": "markdown",
   "metadata": {},
   "source": [
    "#### Tuning Individual Model Parameters with GridSearch"
   ]
  },
  {
   "cell_type": "code",
   "execution_count": 38,
   "metadata": {},
   "outputs": [],
   "source": [
    "scaled_X_train = StandardScaler().fit_transform(X_train)"
   ]
  },
  {
   "cell_type": "code",
   "execution_count": 22,
   "metadata": {},
   "outputs": [
    {
     "name": "stdout",
     "output_type": "stream",
     "text": [
      "Best parameters: {'C': 0.1, 'max_iter': 2000, 'penalty': 'l1', 'solver': 'liblinear'}\n",
      "Best score: 0.7752868281815649\n"
     ]
    }
   ],
   "source": [
    "param_grid = {\n",
    "    'max_iter': [2000],\n",
    "    'C': [0.01, 0.1, 1.0, 10.0],\n",
    "    'penalty': ['l1', 'l2'],\n",
    "    'solver': ['liblinear']\n",
    "}\n",
    "\n",
    "lr = LogisticRegression(random_state=0)\n",
    "clf_lr = GridSearchCV(estimator=lr, param_grid=param_grid, cv=10, n_jobs=-1, scoring='roc_auc')\n",
    "best_clf_lr = clf_lr.fit(scaled_X_train, y_train)\n",
    "\n",
    "# Print the best parameters and score\n",
    "print('Best parameters:', best_clf_lr.best_params_)\n",
    "print('Best score:', best_clf_lr.best_score_)"
   ]
  },
  {
   "cell_type": "code",
   "execution_count": 23,
   "metadata": {},
   "outputs": [
    {
     "name": "stdout",
     "output_type": "stream",
     "text": [
      "Best parameters: {'algorithm': 'auto', 'n_neighbors': 9, 'p': 1, 'weights': 'uniform'}\n",
      "Best score: 0.7571358952937901\n"
     ]
    }
   ],
   "source": [
    "param_grid = {\n",
    "    'n_neighbors': [3, 5, 7, 9],\n",
    "    'weights': ['uniform', 'distance'],\n",
    "    'algorithm': ['auto', 'ball_tree', 'kd_tree', 'brute'],\n",
    "    'p': [1, 2]\n",
    "}\n",
    "knn = KNeighborsClassifier()\n",
    "clf_knn = GridSearchCV(estimator=knn, param_grid=param_grid, cv=10, n_jobs=-1, scoring='roc_auc')\n",
    "best_clf_knn= clf_knn.fit(scaled_X_train, y_train)\n",
    "\n",
    "# Print the best parameters and score\n",
    "print('Best parameters:', best_clf_knn.best_params_)\n",
    "print('Best score:', best_clf_knn.best_score_)"
   ]
  },
  {
   "cell_type": "code",
   "execution_count": 24,
   "metadata": {},
   "outputs": [
    {
     "name": "stdout",
     "output_type": "stream",
     "text": [
      "Best parameters: {'var_smoothing': 1e-09}\n",
      "Best score: 0.7356307435254804\n"
     ]
    }
   ],
   "source": [
    "param_grid = {\n",
    "    'var_smoothing': [1e-9, 1e-8, 1e-7, 1e-6, 1e-5]\n",
    "}\n",
    "\n",
    "gnb = GaussianNB()\n",
    "clf_gnb = GridSearchCV(estimator=gnb, param_grid=param_grid, cv=10, n_jobs=-1, scoring='roc_auc')\n",
    "best_clf_gnb = clf_gnb.fit(scaled_X_train, y_train)\n",
    "\n",
    "# Print the best parameters and score\n",
    "print('Best parameters:', best_clf_gnb.best_params_)\n",
    "print('Best score:', best_clf_gnb.best_score_)"
   ]
  },
  {
   "cell_type": "code",
   "execution_count": 25,
   "metadata": {},
   "outputs": [
    {
     "name": "stdout",
     "output_type": "stream",
     "text": [
      "Best parameters: {'n_estimators': 700, 'min_samples_split': 2, 'min_samples_leaf': 1, 'max_features': 'sqrt', 'max_depth': 3, 'bootstrap': True}\n",
      "Best score: 0.7794792536897801\n"
     ]
    }
   ],
   "source": [
    "param_grid = {\n",
    "    'n_estimators': [10, 30, 50, 100, 200, 500, 700, 100, 1200],\n",
    "    'max_depth': [None, 3, 5, 10, 20, 50, 75, 100],\n",
    "    'max_features': ['auto', 'sqrt'],\n",
    "    'min_samples_split': [2, 5, 10],\n",
    "    'min_samples_leaf': [1, 2, 4, 10],\n",
    "    'bootstrap': [True, False]\n",
    "}\n",
    "\n",
    "rf = RandomForestClassifier(random_state=0)\n",
    "clf_rf = RandomizedSearchCV(estimator=rf, param_distributions=param_grid, cv=10, n_jobs=-1, scoring='roc_auc')\n",
    "best_clf_rf = clf_rf.fit(scaled_X_train, y_train)\n",
    "\n",
    "# Print the best parameters and score\n",
    "print('Best parameters:', best_clf_rf.best_params_)\n",
    "print('Best score:', best_clf_rf.best_score_)"
   ]
  },
  {
   "cell_type": "code",
   "execution_count": 26,
   "metadata": {},
   "outputs": [
    {
     "name": "stdout",
     "output_type": "stream",
     "text": [
      "Best parameters: {'subsample': 0.55, 'sampling_method': 'uniform', 'reg_lambda': 10, 'reg_alpha': 1, 'n_estimators': 550, 'min_child_weight': 0.01, 'max_depth': None, 'learning_rate': 0.5, 'gamma': 2, 'colsample_bytree': 0.8}\n",
      "Best score: 0.7734948482316903\n"
     ]
    }
   ],
   "source": [
    "param_grid = {\n",
    "    'n_estimators': [450,500,550],\n",
    "    'colsample_bytree': [0.75,0.8,0.85],\n",
    "    'max_depth': [None],\n",
    "    'reg_alpha': [1],\n",
    "    'reg_lambda': [2, 5, 10],\n",
    "    'subsample': [0.55, 0.6, .65],\n",
    "    'learning_rate':[0.5],\n",
    "    'gamma':[.5,1,2],\n",
    "    'min_child_weight':[0.01],\n",
    "    'sampling_method': ['uniform']\n",
    "}\n",
    "\n",
    "xgb = XGBClassifier(random_state=0)\n",
    "clf_xgb = RandomizedSearchCV(estimator=xgb, param_distributions=param_grid, cv=10, n_jobs=-1, scoring='roc_auc')\n",
    "best_clf_xgb = clf_xgb.fit(scaled_X_train, y_train)\n",
    "\n",
    "# Print the best parameters and score\n",
    "print('Best parameters:', best_clf_xgb.best_params_)\n",
    "print('Best score:', best_clf_xgb.best_score_)"
   ]
  },
  {
   "cell_type": "code",
   "execution_count": 27,
   "metadata": {},
   "outputs": [
    {
     "name": "stdout",
     "output_type": "stream",
     "text": [
      "Best parameters: {'C': 0.1, 'gamma': 0.5, 'kernel': 'rbf'}\n",
      "Best score: 0.7790531885268728\n"
     ]
    }
   ],
   "source": [
    "param_grid = [\n",
    "   {'kernel': ['rbf'], 'gamma': [.1,.5,1,2,5,10], 'C': [.1, 1, 10, 100]},\n",
    "    {'kernel': ['linear'], 'C': [.1, 1, 10, 100]},\n",
    "   {'kernel': ['poly'], 'degree' : [2,3,4,5], 'C': [.1, 1, 10, 100]}\n",
    "]\n",
    "\n",
    "svc = SVC(probability=True)\n",
    "clf_svc = GridSearchCV(estimator=svc, param_grid=param_grid, cv=10, n_jobs=-1, scoring='roc_auc')\n",
    "best_clf_svc = clf_svc.fit(scaled_X_train, y_train)\n",
    "\n",
    "# Print the best parameters and score\n",
    "print('Best parameters:', best_clf_svc.best_params_)\n",
    "print('Best score:', best_clf_svc.best_score_)"
   ]
  },
  {
   "cell_type": "code",
   "execution_count": 28,
   "metadata": {},
   "outputs": [
    {
     "name": "stdout",
     "output_type": "stream",
     "text": [
      "[0.81754386 0.81578947 0.68045113 0.72180451 0.72180451 0.79259259\n",
      " 0.87777778 0.84814815 0.71481481 0.75555556]\n",
      "0.7746282372598162\n"
     ]
    }
   ],
   "source": [
    "voting_clf = VotingClassifier(\n",
    "    estimators=[('lr', best_clf_lr), ('gnb', best_clf_gnb), ('knn', best_clf_knn), ('rf', best_clf_rf), ('svc', best_clf_svc), ('xgb', best_clf_xgb)], \n",
    "    voting='soft'\n",
    ")\n",
    "\n",
    "cv = cross_val_score(voting_clf, scaled_X_train, y_train, cv=10, n_jobs=-1, scoring='roc_auc')\n",
    "print(cv)\n",
    "print(cv.mean())"
   ]
  },
  {
   "cell_type": "code",
   "execution_count": 31,
   "metadata": {},
   "outputs": [],
   "source": [
    "X_test_kaggle = StandardScaler().fit_transform(test_df[feature_cols])\n",
    "X_test_kaggle_df = pd.DataFrame(X_test_kaggle, columns=feature_cols)"
   ]
  },
  {
   "cell_type": "code",
   "execution_count": 35,
   "metadata": {},
   "outputs": [],
   "source": [
    "voting_clf.fit(scaled_X_train, y_train)\n",
    "preds = voting_clf.predict(X_test_kaggle)\n",
    "\n",
    "base_params_model_submission = pd.DataFrame({'id': test_df['id'], 'target': preds})\n",
    "base_params_model_submission.to_csv(os.path.join(proj_dir, 'data', 'submissions', 'voting_clf_best_params.csv'), index=False)"
   ]
  },
  {
   "attachments": {},
   "cell_type": "markdown",
   "metadata": {},
   "source": [
    "#### StackingClassifier with Above Tuned Models"
   ]
  },
  {
   "cell_type": "code",
   "execution_count": 45,
   "metadata": {},
   "outputs": [
    {
     "name": "stdout",
     "output_type": "stream",
     "text": [
      "[0.81052632 0.81203008 0.70300752 0.70676692 0.73308271 0.78518519\n",
      " 0.87407407 0.84444444 0.6962963  0.75925926]\n",
      "0.7724672793093845\n"
     ]
    }
   ],
   "source": [
    "models = [('lr', best_clf_lr), ('gnb', best_clf_gnb), ('knn', best_clf_knn), ('rf', best_clf_rf), ('svc', best_clf_svc), ('xgb', best_clf_xgb)]\n",
    "stacking_clf = StackingClassifier(estimators=models, final_estimator=LogisticRegression())\n",
    "\n",
    "cv = cross_val_score(stacking_clf, scaled_X_train, y_train, cv=10, n_jobs=-1, scoring='roc_auc')\n",
    "print(cv)\n",
    "print(cv.mean())"
   ]
  },
  {
   "cell_type": "code",
   "execution_count": 44,
   "metadata": {},
   "outputs": [],
   "source": [
    "stacking_clf.fit(scaled_X_train, y_train)\n",
    "preds = stacking_clf.predict(X_test_kaggle)\n",
    "\n",
    "base_params_model_submission = pd.DataFrame({'id': test_df['id'], 'target': preds})\n",
    "base_params_model_submission.to_csv(os.path.join(proj_dir, 'data', 'submissions', 'stacking_clf_best_params.csv'), index=False)"
   ]
  },
  {
   "cell_type": "code",
   "execution_count": null,
   "metadata": {},
   "outputs": [],
   "source": []
  }
 ],
 "metadata": {
  "kernelspec": {
   "display_name": "base",
   "language": "python",
   "name": "python3"
  },
  "language_info": {
   "codemirror_mode": {
    "name": "ipython",
    "version": 3
   },
   "file_extension": ".py",
   "mimetype": "text/x-python",
   "name": "python",
   "nbconvert_exporter": "python",
   "pygments_lexer": "ipython3",
   "version": "3.9.12"
  },
  "orig_nbformat": 4
 },
 "nbformat": 4,
 "nbformat_minor": 2
}
