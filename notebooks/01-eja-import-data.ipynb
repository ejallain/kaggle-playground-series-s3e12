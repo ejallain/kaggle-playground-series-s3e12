{
 "cells": [
  {
   "cell_type": "code",
   "execution_count": 1,
   "metadata": {},
   "outputs": [],
   "source": [
    "from dotenv import load_dotenv, dotenv_values\n",
    "import os"
   ]
  },
  {
   "cell_type": "code",
   "execution_count": 2,
   "metadata": {},
   "outputs": [
    {
     "data": {
      "text/plain": [
       "True"
      ]
     },
     "execution_count": 2,
     "metadata": {},
     "output_type": "execute_result"
    }
   ],
   "source": [
    "load_dotenv() #loads env varriables in '.env' file.  Need KAGGLE_USERNAME and KAGGLE_KEY for data download"
   ]
  },
  {
   "cell_type": "code",
   "execution_count": 3,
   "metadata": {},
   "outputs": [],
   "source": [
    "os.chdir('../') #change to the main project directory"
   ]
  },
  {
   "cell_type": "code",
   "execution_count": 7,
   "metadata": {},
   "outputs": [],
   "source": [
    "proj_dir = os.getcwd()\n",
    "data_dir = os.path.join(proj_dir, 'data')\n",
    "raw_data_dir = os.path.join(data_dir, 'raw')\n",
    "if not os.path.exists(raw_data_dir):\n",
    "    os.makedirs(raw_data_dir)\n",
    "else:\n",
    "    print('raw directory already exists')"
   ]
  },
  {
   "cell_type": "code",
   "execution_count": 8,
   "metadata": {},
   "outputs": [],
   "source": [
    "from kaggle.api.kaggle_api_extended import KaggleApi\n",
    "api = KaggleApi()\n",
    "api.authenticate()"
   ]
  },
  {
   "cell_type": "code",
   "execution_count": 9,
   "metadata": {},
   "outputs": [],
   "source": [
    "api.competition_download_files('playground-series-s3e12', path=raw_data_dir)"
   ]
  },
  {
   "cell_type": "code",
   "execution_count": null,
   "metadata": {},
   "outputs": [],
   "source": []
  },
  {
   "cell_type": "code",
   "execution_count": 14,
   "metadata": {},
   "outputs": [
    {
     "name": "stdout",
     "output_type": "stream",
     "text": [
      "Downloading playground-series-s3e12.zip to /workspaces/kaggle-playground-series-s3e12/data/raw\n",
      "  0%|                                               | 0.00/9.06k [00:00<?, ?B/s]\n",
      "100%|██████████████████████████████████████| 9.06k/9.06k [00:00<00:00, 17.3MB/s]\n"
     ]
    }
   ],
   "source": [
    "!kaggle competitions download -p /workspaces/kaggle-playground-series-s3e12/data/raw playground-series-s3e12"
   ]
  },
  {
   "cell_type": "code",
   "execution_count": 15,
   "metadata": {},
   "outputs": [
    {
     "name": "stdout",
     "output_type": "stream",
     "text": [
      "Archive:  /workspaces/kaggle-playground-series-s3e12/data/raw/playground-series-s3e12.zip\n",
      "  inflating: /workspaces/kaggle-playground-series-s3e12/data/raw/sample_submission.csv  \n",
      "  inflating: /workspaces/kaggle-playground-series-s3e12/data/raw/test.csv  \n",
      "  inflating: /workspaces/kaggle-playground-series-s3e12/data/raw/train.csv  \n"
     ]
    }
   ],
   "source": [
    "!unzip /workspaces/kaggle-playground-series-s3e12/data/raw/playground-series-s3e12.zip -d /workspaces/kaggle-playground-series-s3e12/data/raw/"
   ]
  },
  {
   "cell_type": "code",
   "execution_count": 16,
   "metadata": {},
   "outputs": [],
   "source": [
    "!rm /workspaces/kaggle-playground-series-s3e12/data/raw/playground-series-s3e12.zip"
   ]
  },
  {
   "cell_type": "code",
   "execution_count": null,
   "metadata": {},
   "outputs": [],
   "source": []
  }
 ],
 "metadata": {
  "kernelspec": {
   "display_name": "Python 3",
   "language": "python",
   "name": "python3"
  },
  "language_info": {
   "codemirror_mode": {
    "name": "ipython",
    "version": 3
   },
   "file_extension": ".py",
   "mimetype": "text/x-python",
   "name": "python",
   "nbconvert_exporter": "python",
   "pygments_lexer": "ipython3",
   "version": "3.10.4"
  },
  "orig_nbformat": 4
 },
 "nbformat": 4,
 "nbformat_minor": 2
}
